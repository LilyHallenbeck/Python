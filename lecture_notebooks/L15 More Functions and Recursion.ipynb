{
  "cells": [
    {
      "cell_type": "markdown",
      "metadata": {
        "id": "f28Xd6z9-lp_"
      },
      "source": [
        "# Lecture 15 - More Functions and Recursion (https://bit.ly/intro_python_15)\n",
        "\n",
        "Today is more functions :) :\n",
        "* Recursion\n",
        "* Consolidate: Look at some more complex examples of recursive control flow that use functions and control statements to get more comfortable\n",
        "* Lambda functions\n",
        "* Functions as arguments\n"
      ]
    },
    {
      "cell_type": "markdown",
      "metadata": {
        "id": "GkYm_4rEedmq"
      },
      "source": [
        "# Recursion: Functions can call themselves\n",
        "\n",
        "* Functions can call each other - you know this.\n",
        "\n",
        "* Functions can also call themselves, this is called recursion:\n",
        "\n",
        "<img src=\"https://raw.githubusercontent.com/benedictpaten/intro_python/main/lecture_notebooks/figures/graffles/recursive.jpg\" width=600 height=300 />\n",
        "\n",
        "* Recursion is a powerful method for breaking down a problem into smaller, more easily solved subproblems.\n",
        "\n",
        "* Recursion can be direct (where a function calls itself) or indirect (e.g. where a function calls another function which then calls the first function, etc.)\n",
        "\n",
        "* Let's start by looking at a simple example: factorial calculation"
      ]
    },
    {
      "cell_type": "code",
      "execution_count": 2,
      "metadata": {
        "colab": {
          "base_uri": "https://localhost:8080/"
        },
        "id": "IU0UDyrqUAqX",
        "outputId": "039953f5-2111-4ea6-daf6-c10c127701ba"
      },
      "outputs": [
        {
          "output_type": "stream",
          "name": "stdout",
          "text": [
            "Factorial 0 is 1\n",
            "Factorial 1 is 1\n",
            "Factorial 2 is 2\n",
            "Factorial 3 is 6\n",
            "Factorial 4 is 24\n",
            "Factorial 5 is 120\n",
            "Factorial 6 is 720\n",
            "Factorial 7 is 5040\n",
            "Factorial 8 is 40320\n",
            "Factorial 9 is 362880\n",
            "Factorial 10 is 3628800\n"
          ]
        }
      ],
      "source": [
        "# Okay, to recap, here's a non-recursive function to calculate factorials:\n",
        "\n",
        "def factorial(x):\n",
        "  \"\"\" Calculates factorials, x * x-1 * x-2 ... 1, for an integer >= 0\n",
        "  \"\"\"\n",
        "  assert(x >= 0)\n",
        "  j = 1\n",
        "  for i in range(1, x+1):\n",
        "    j *= i\n",
        "  return j\n",
        "\n",
        "for i in range(11):\n",
        "  print(\"Factorial\", i, \"is\", factorial(i))\n"
      ]
    },
    {
      "cell_type": "markdown",
      "metadata": {
        "id": "je55DIkrZKwn"
      },
      "source": [
        "To recap:\n",
        "\n",
        "* factorial(x) = x * x-1 * x-2 ... 1, for an integer >= 0\n",
        "\n",
        "We note that for x > 1:\n",
        "\n",
        "* factorial(x) = x * factorial(x-1)\n",
        "\n",
        "This suggests a recursive way to break the problem up:"
      ]
    },
    {
      "cell_type": "code",
      "execution_count": null,
      "metadata": {
        "colab": {
          "base_uri": "https://localhost:8080/"
        },
        "id": "41beJQDkYNu7",
        "outputId": "9d134fd6-f48b-467c-87cc-5da09806d5bf"
      },
      "outputs": [
        {
          "name": "stdout",
          "output_type": "stream",
          "text": [
            "Factorial 0 is 1\n",
            "Factorial 1 is 1\n",
            "Factorial 2 is 2\n",
            "Factorial 3 is 6\n",
            "Factorial 4 is 24\n",
            "Factorial 5 is 120\n",
            "Factorial 6 is 720\n",
            "Factorial 7 is 5040\n",
            "Factorial 8 is 40320\n",
            "Factorial 9 is 362880\n",
            "Factorial 10 is 3628800\n"
          ]
        }
      ],
      "source": [
        "def factorial_recursive(x):\n",
        "  \"\"\" Calculates factorials, x * x-1 * x-2 ... 1, for an integer >= 0\n",
        "  \"\"\"\n",
        "  assert(x >= 0)\n",
        "  return x * factorial_recursive(x-1) if x > 1 else 1\n",
        "\n",
        "for i in range(11):\n",
        "  print(\"Factorial\", i, \"is\", factorial_recursive(i))"
      ]
    },
    {
      "cell_type": "markdown",
      "metadata": {
        "id": "4osdy6takrKl"
      },
      "source": [
        "Here's a visual that shows you what is going on where I've replaced the variable name with its value:\n",
        "\n",
        "<img src=\"https://raw.githubusercontent.com/benedictpaten/intro_python/main/lecture_notebooks/figures/graffles/factorial%20function.jpg\" width=1000 height=600 />\n"
      ]
    },
    {
      "cell_type": "markdown",
      "metadata": {
        "id": "CpaixQAcdXkq"
      },
      "source": [
        "The following figure shows the call stack (note, I've abbreviated factorial_recursive to fr):\n",
        "\n",
        "<img src=\"https://raw.githubusercontent.com/benedictpaten/intro_python/main/lecture_notebooks/figures/graffles/factorial%20recursion%20stack.jpg\" width=1000 height=500 />\n"
      ]
    },
    {
      "cell_type": "markdown",
      "metadata": {
        "id": "Jm35sZQ0dXkq"
      },
      "source": [
        "# Challenge 1"
      ]
    },
    {
      "cell_type": "code",
      "execution_count": 4,
      "metadata": {
        "id": "OEPkxc3qdXkq"
      },
      "outputs": [],
      "source": [
        "# Write a recursive function called \"recursive_sum\" to calculate the sum of whole numbers\n",
        "# between two integers, x (inclusive) and y (exclusive)\n",
        "\n",
        "def recursive_sum(x, y):\n",
        "  return x + recursive_sum(x+1, y) if x<y else 0\n",
        "      #x + x+1 + x+2 + ..... + y-1 is the same as x + recursive_sum(x+1, y)\n",
        "      #after we deal with the recursive part, we just have to deal with how the recusion ends (x<y)\n",
        "# These asserts should pass\n",
        "assert recursive_sum(5, 8) == 5 + 6 + 7\n",
        "assert recursive_sum(3, 100) == 4947"
      ]
    },
    {
      "cell_type": "markdown",
      "metadata": {
        "id": "6coWzD7V9SRk"
      },
      "source": [
        "# Revisiting earlier practice examples as non-recursive and recursive functions\n",
        "\n",
        "The best way to get the hang of recursion is to write out examples\n"
      ]
    },
    {
      "cell_type": "markdown",
      "metadata": {
        "id": "1fvWuYf1ISYp"
      },
      "source": [
        " **Counting digits**"
      ]
    },
    {
      "cell_type": "code",
      "execution_count": null,
      "metadata": {
        "colab": {
          "base_uri": "https://localhost:8080/"
        },
        "id": "lWJ1ieJnH3Mt",
        "outputId": "6a4c0a76-2315-4d62-cb40-afc03451471d"
      },
      "outputs": [
        {
          "data": {
            "text/plain": [
              "7"
            ]
          },
          "execution_count": 15,
          "metadata": {
            "tags": []
          },
          "output_type": "execute_result"
        }
      ],
      "source": [
        "def num_digits(n):\n",
        "    \"\"\"Returns the number of digits in the number (base 10).\n",
        "\n",
        "    e.g. For n = 6706 returns 4\n",
        "    \"\"\"\n",
        "    count = 0\n",
        "    while n != 0:\n",
        "        count = count + 1\n",
        "        #print(\"Before \", n)\n",
        "        n = n // 10 # This is the integer division operator, it loses the remainder\n",
        "        #print(\"After \", n)\n",
        "    return count\n",
        "\n",
        "num_digits(4324789)"
      ]
    },
    {
      "cell_type": "markdown",
      "metadata": {
        "id": "ncoE7lwMKS_u"
      },
      "source": [
        "We note that for n > 0:\n",
        "\n",
        "* num_digits(n) = 1 + num_digits(n//10)\n",
        "\n",
        "This suggests a recursive definition:"
      ]
    },
    {
      "cell_type": "code",
      "execution_count": null,
      "metadata": {
        "colab": {
          "base_uri": "https://localhost:8080/"
        },
        "id": "A9aiyqvE4uu9",
        "outputId": "0780acb2-2231-48c3-da53-d43e9b862f45"
      },
      "outputs": [
        {
          "name": "stdout",
          "output_type": "stream",
          "text": [
            "n is now 4324789 432478\n",
            "n is now 432478 43247\n",
            "n is now 43247 4324\n",
            "n is now 4324 432\n",
            "n is now 432 43\n",
            "n is now 43 4\n",
            "n is now 4 0\n",
            "n is now 0 0\n"
          ]
        },
        {
          "data": {
            "text/plain": [
              "7"
            ]
          },
          "execution_count": 2,
          "metadata": {},
          "output_type": "execute_result"
        }
      ],
      "source": [
        "# Here's a recursive version\n",
        "\n",
        "def num_digits_recursive(n):\n",
        "    \"\"\"Returns the number of digits in the number (base 10).\n",
        "\n",
        "    e.g. For n = 6706 returns 4\n",
        "    \"\"\"\n",
        "    print(\"n is now\", n)  ## Helpful print statement to see chain of function calls\n",
        "    return 0 if n == 0 else (1 + num_digits_recursive(n//10))\n",
        "    # each time we recurse we have a print statement, we add 1 to the recursive statement\n",
        "    # because in the example above we make count += 1 through each while loop, but in this one\n",
        "    #the recursive function is n//10\n",
        "    # n==0 gives us an end to the recursive loop\n",
        "num_digits_recursive(4324789)"
      ]
    },
    {
      "cell_type": "markdown",
      "metadata": {
        "id": "jhGACb6NIPjL"
      },
      "source": [
        "**Collatz 3n + 1 sequence**\n",
        "\n",
        "Let's look at the Collatz 3n + 1 sequence:\n",
        "\n",
        "* Start from some given n, the next term in the sequence is either half n if n is even, or else 3*n + 1.  \n",
        "* The sequence continues, only terminating when n reaches 1."
      ]
    },
    {
      "cell_type": "code",
      "execution_count": null,
      "metadata": {
        "colab": {
          "base_uri": "https://localhost:8080/",
          "height": 34
        },
        "id": "Z4DPPbMRmowu",
        "outputId": "33bc1871-cd6f-448e-b0e7-170aa77e07ac"
      },
      "outputs": [
        {
          "data": {
            "text/plain": [
              "[7, 22, 11, 34, 17, 52, 26, 13, 40, 20, 10, 5, 16, 8, 4, 2, 1]"
            ]
          },
          "execution_count": 6,
          "metadata": {
            "tags": []
          },
          "output_type": "execute_result"
        }
      ],
      "source": [
        "def seq3np1(n):\n",
        "    \"\"\" creates the 3n+1 sequence from n,\n",
        "        terminating when it reaches 1.\n",
        "    \"\"\"\n",
        "    l = [] # l is an empty list, initially\n",
        "\n",
        "    while n != 1:\n",
        "        l.append(n) # add n to the end of the list l\n",
        "        if n % 2 == 0:        # n is even\n",
        "            n = n // 2\n",
        "        else:                 # n is odd\n",
        "            n = n * 3 + 1\n",
        "\n",
        "    l.append(n)\n",
        "\n",
        "    return l\n",
        "#my solution\n",
        "  return l.append(seq3np1(n//2)) if n % 2 == 0, else l.append(seq3np1)\n",
        "# Let's play with this function\n",
        "seq3np1(7)"
      ]
    },
    {
      "cell_type": "markdown",
      "metadata": {
        "id": "p8QA0t8DLqCq"
      },
      "source": [
        "The Collatz sequence is defined recursively, so it maps very naturally to a recursive funcrion:"
      ]
    },
    {
      "cell_type": "code",
      "execution_count": null,
      "metadata": {
        "colab": {
          "base_uri": "https://localhost:8080/",
          "height": 34
        },
        "id": "9LP8BJ4V5nEa",
        "outputId": "41640ff9-3815-4237-def3-f107e7c73d2a"
      },
      "outputs": [
        {
          "name": "stdout",
          "output_type": "stream",
          "text": [
            "Next term in the sequence is: 7 22\n",
            "Next term in the sequence is: 22 11\n",
            "Next term in the sequence is: 11 34\n",
            "Next term in the sequence is: 34 17\n",
            "Next term in the sequence is: 17 52\n",
            "Next term in the sequence is: 52 26\n",
            "Next term in the sequence is: 26 13\n",
            "Next term in the sequence is: 13 40\n",
            "Next term in the sequence is: 40 20\n",
            "Next term in the sequence is: 20 10\n",
            "Next term in the sequence is: 10 5\n",
            "Next term in the sequence is: 5 16\n",
            "Next term in the sequence is: 16 8\n",
            "Next term in the sequence is: 8 4\n",
            "Next term in the sequence is: 4 2\n",
            "Next term in the sequence is: 2 1\n",
            "Next term in the sequence is: 1 4\n"
          ]
        },
        {
          "data": {
            "text/plain": [
              "[7, 22, 11, 34, 17, 52, 26, 13, 40, 20, 10, 5, 16, 8, 4, 2, 1]"
            ]
          },
          "execution_count": 4,
          "metadata": {},
          "output_type": "execute_result"
        }
      ],
      "source": [
        "# Recursive version\n",
        "\n",
        "def seq3np1_recursive(n):\n",
        "    \"\"\" Print the 3n+1 sequence from n,\n",
        "        terminating when it reaches 1.\n",
        "    \"\"\"\n",
        "    print(\"Next term in the sequence is:\", n, n // 2 if n % 2 == 0 else n * 3 + 1)\n",
        "    return [ 1 ] if n == 1 else ([ n ] + seq3np1_recursive(n // 2 if n % 2 == 0 else n * 3 + 1))\n",
        "\n",
        "    # Expanding this dense code it is the same as:\n",
        "    #if n == 1:\n",
        "    #    return [1]\n",
        "    #else:\n",
        "    #    next_term = n // 2 if n % 2 == 0 else n * 3 + 1  # The next term in the sequence\n",
        "    #    return [n] + seq3np1_recursive(next_term)\n",
        "\n",
        "# Let's play with this function\n",
        "seq3np1_recursive(7)"
      ]
    },
    {
      "cell_type": "markdown",
      "metadata": {
        "id": "shO-JrIxMQyu"
      },
      "source": [
        "**Sorting**\n",
        "\n",
        "* It turns out there is a very simple way to write a sort recursively.\n",
        "\n",
        "* Note, there are many variants and sorting algorithms that can be defined"
      ]
    },
    {
      "cell_type": "code",
      "execution_count": null,
      "metadata": {
        "colab": {
          "base_uri": "https://localhost:8080/",
          "height": 105
        },
        "id": "gGjPyP_IoXpR",
        "outputId": "6a80cebf-9b66-4189-b209-68e85591086e"
      },
      "outputs": [
        {
          "name": "stdout",
          "output_type": "stream",
          "text": [
            "The min is:  -8  list is now:  [4, -8, 12, 1]\n",
            "The min is:  1  list is now:  [4, 12, 1]\n",
            "The min is:  4  list is now:  [4, 12]\n",
            "The min is:  12  list is now:  [12]\n"
          ]
        },
        {
          "data": {
            "text/plain": [
              "[-8, 1, 4, 12]"
            ]
          },
          "execution_count": 13,
          "metadata": {
            "tags": []
          },
          "output_type": "execute_result"
        }
      ],
      "source": [
        "def sortTheList(l):\n",
        "  \"\"\" Function takes a list l and returns a sorted version of l\"\"\"\n",
        "\n",
        "  # If the list is empty, return it\n",
        "  if len(l) == 0:\n",
        "    return [] #base case ayyy\n",
        "\n",
        "  # Find the minimum member of l\n",
        "  i = min(l)\n",
        "\n",
        "  print(\"The min is: \", i, \" list is now: \", l)\n",
        "\n",
        "  # Remove i fom l\n",
        "  l.remove(i)\n",
        "\n",
        "  return [ i ] + sortTheList(l) # This is where the recursive call\n",
        "  # happens, in which a new list is created by adding together a list\n",
        "  # containing the minimum value, i, and a sorting of the remainder\n",
        "  # of the list\n",
        "  # Note + here adds the lists together, i.e. [ 1 ] + [ 2, 3] == [ 1, 2, 3]\n",
        "\n",
        "sortTheList([ 4, -8, 12, 1 ])"
      ]
    },
    {
      "cell_type": "markdown",
      "metadata": {
        "id": "J_ShlgSsM4RY"
      },
      "source": [
        "# Recursion Summary\n",
        "\n",
        "* Recursion is a powerful technique that can be used to write elegant solutions to problems.\n",
        "\n",
        "* Recursive solutions can be expressed as solutions that involve solving smaller subproblems of the same type.\n",
        "\n",
        "* Recursion challenges your understanding of the order of execution, but it is consistent with everything we've learned.\n",
        "\n",
        "* I've set some challenges, but here are even more: https://www.geeksforgeeks.org/recursion-practice-problems-solutions/"
      ]
    },
    {
      "cell_type": "markdown",
      "metadata": {
        "id": "p4lgze8kdXkr"
      },
      "source": [
        "# Challenge 2: Enumerate all boolean strings of length n"
      ]
    },
    {
      "cell_type": "code",
      "execution_count": 7,
      "metadata": {
        "id": "n4RNjvn9dXkr",
        "outputId": "7c47a665-026a-4d8f-c5ae-d6d67bc8c02b",
        "colab": {
          "base_uri": "https://localhost:8080/"
        }
      },
      "outputs": [
        {
          "output_type": "execute_result",
          "data": {
            "text/plain": [
              "['000', '001', '010', '011', '100', '101', '110', '111']"
            ]
          },
          "metadata": {},
          "execution_count": 7
        }
      ],
      "source": [
        "# A boolean string of length n is a string of n 0 or 1 characters.\n",
        "# The challenge is write a recursive function to enumerate the set of boolean strings of a given length,\n",
        "# e.g. for n = 3 we have '000' '001' '010' '011' '100' '101' '110' '111'\n",
        "# The problem is naturally recursive because the set of boolean strings, T, of length n+1\n",
        "# can be formed from the set S of boolean strings of length n by taking each string in S\n",
        "# and appending a 0 and, separately, a 1 to form a set 2x as large as S.\n",
        "# i.e.\n",
        "# for s in S\n",
        "#    T.append(s + '0')\n",
        "#    T.append(s + '1')\n",
        "\n",
        "\n",
        "def boolean_strings(n):\n",
        "    \"\"\" Returns the set of boolean strings of length n\n",
        "    \"\"\"\n",
        "\n",
        "    if n == 0: #base case where we have an empty string\n",
        "      return [\"\"] #string conatining single zero length string\n",
        "      #without the string we will have nothing to append to\n",
        "    smaller_strings = boolean_strings(n-1) #make recursive call to get the boolean strings\n",
        "    larger_strings = [] #list to hold boolean strings of length n\n",
        "\n",
        "    for s in smaller_strings: #for each smaller string\n",
        "      larger_strings.append(s + \"0\") #make a longer string by appending 0\n",
        "      larger_strings.append(s + \"1\") #same thing but append 1\n",
        "\n",
        "    return larger_strings #now boolean strings of length n\n",
        "\n",
        "boolean_strings(3)"
      ]
    },
    {
      "cell_type": "markdown",
      "metadata": {
        "id": "NoCGPw_WdXkr"
      },
      "source": [
        "# Challenge 3: Enumerate all permutations of a set"
      ]
    },
    {
      "cell_type": "code",
      "execution_count": 9,
      "metadata": {
        "id": "GjaRlTq-dXkr",
        "outputId": "d8b3ddf1-021b-422e-9712-248200f330b4",
        "colab": {
          "base_uri": "https://localhost:8080/",
          "height": 329
        }
      },
      "outputs": [
        {
          "output_type": "error",
          "ename": "TypeError",
          "evalue": "'NoneType' object is not iterable",
          "traceback": [
            "\u001b[0;31m---------------------------------------------------------------------------\u001b[0m",
            "\u001b[0;31mTypeError\u001b[0m                                 Traceback (most recent call last)",
            "\u001b[0;32m<ipython-input-9-acaa215be883>\u001b[0m in \u001b[0;36m<cell line: 0>\u001b[0;34m()\u001b[0m\n\u001b[1;32m     36\u001b[0m     \u001b[0;31m# Code to complete\u001b[0m\u001b[0;34m\u001b[0m\u001b[0;34m\u001b[0m\u001b[0m\n\u001b[1;32m     37\u001b[0m \u001b[0;34m\u001b[0m\u001b[0m\n\u001b[0;32m---> 38\u001b[0;31m \u001b[0mpermutations\u001b[0m\u001b[0;34m(\u001b[0m\u001b[0;34m(\u001b[0m\u001b[0;36m0\u001b[0m\u001b[0;34m,\u001b[0m\u001b[0;36m1\u001b[0m\u001b[0;34m,\u001b[0m\u001b[0;36m2\u001b[0m\u001b[0;34m)\u001b[0m\u001b[0;34m)\u001b[0m\u001b[0;34m\u001b[0m\u001b[0;34m\u001b[0m\u001b[0m\n\u001b[0m",
            "\u001b[0;32m<ipython-input-9-acaa215be883>\u001b[0m in \u001b[0;36mpermutations\u001b[0;34m(S)\u001b[0m\n\u001b[1;32m     24\u001b[0m \u001b[0;34m\u001b[0m\u001b[0m\n\u001b[1;32m     25\u001b[0m     \u001b[0mk\u001b[0m \u001b[0;34m=\u001b[0m \u001b[0mS\u001b[0m\u001b[0;34m[\u001b[0m\u001b[0;36m0\u001b[0m\u001b[0;34m]\u001b[0m \u001b[0;31m#first element\u001b[0m\u001b[0;34m\u001b[0m\u001b[0;34m\u001b[0m\u001b[0m\n\u001b[0;32m---> 26\u001b[0;31m     \u001b[0msmaller_permutations\u001b[0m \u001b[0;34m=\u001b[0m \u001b[0mpermutations\u001b[0m\u001b[0;34m(\u001b[0m\u001b[0mS\u001b[0m\u001b[0;34m[\u001b[0m\u001b[0;36m1\u001b[0m\u001b[0;34m:\u001b[0m\u001b[0;34m]\u001b[0m\u001b[0;34m)\u001b[0m \u001b[0;31m#recursively call permtations\u001b[0m\u001b[0;34m\u001b[0m\u001b[0;34m\u001b[0m\u001b[0m\n\u001b[0m\u001b[1;32m     27\u001b[0m     \u001b[0;31m#of all elements apart from the first one\u001b[0m\u001b[0;34m\u001b[0m\u001b[0;34m\u001b[0m\u001b[0m\n\u001b[1;32m     28\u001b[0m     \u001b[0mlarger_permutations\u001b[0m \u001b[0;34m=\u001b[0m \u001b[0;34m[\u001b[0m\u001b[0;34m]\u001b[0m \u001b[0;31m#larger permutaitons form smaller ones\u001b[0m\u001b[0;34m\u001b[0m\u001b[0;34m\u001b[0m\u001b[0m\n",
            "\u001b[0;32m<ipython-input-9-acaa215be883>\u001b[0m in \u001b[0;36mpermutations\u001b[0;34m(S)\u001b[0m\n\u001b[1;32m     27\u001b[0m     \u001b[0;31m#of all elements apart from the first one\u001b[0m\u001b[0;34m\u001b[0m\u001b[0;34m\u001b[0m\u001b[0m\n\u001b[1;32m     28\u001b[0m     \u001b[0mlarger_permutations\u001b[0m \u001b[0;34m=\u001b[0m \u001b[0;34m[\u001b[0m\u001b[0;34m]\u001b[0m \u001b[0;31m#larger permutaitons form smaller ones\u001b[0m\u001b[0;34m\u001b[0m\u001b[0;34m\u001b[0m\u001b[0m\n\u001b[0;32m---> 29\u001b[0;31m     \u001b[0;32mfor\u001b[0m \u001b[0ms\u001b[0m \u001b[0;32min\u001b[0m \u001b[0msmaller_permutations\u001b[0m\u001b[0;34m:\u001b[0m \u001b[0;31m#for each smaller permutation, s\u001b[0m\u001b[0;34m\u001b[0m\u001b[0;34m\u001b[0m\u001b[0m\n\u001b[0m\u001b[1;32m     30\u001b[0m       \u001b[0;32mfor\u001b[0m \u001b[0mi\u001b[0m \u001b[0;32min\u001b[0m \u001b[0mrange\u001b[0m\u001b[0;34m(\u001b[0m\u001b[0mlen\u001b[0m\u001b[0;34m(\u001b[0m\u001b[0ms\u001b[0m\u001b[0;34m)\u001b[0m\u001b[0;34m)\u001b[0m\u001b[0;34m:\u001b[0m \u001b[0;31m#for each possible index of s\u001b[0m\u001b[0;34m\u001b[0m\u001b[0;34m\u001b[0m\u001b[0m\n\u001b[1;32m     31\u001b[0m         \u001b[0mlarger_permutations\u001b[0m\u001b[0;34m.\u001b[0m\u001b[0mappend\u001b[0m\u001b[0;34m(\u001b[0m\u001b[0ms\u001b[0m\u001b[0;34m[\u001b[0m\u001b[0;34m:\u001b[0m\u001b[0mi\u001b[0m\u001b[0;34m]\u001b[0m \u001b[0;34m+\u001b[0m \u001b[0;34m(\u001b[0m\u001b[0mk\u001b[0m\u001b[0;34m,\u001b[0m\u001b[0;34m)\u001b[0m \u001b[0;34m+\u001b[0m\u001b[0ms\u001b[0m\u001b[0;34m[\u001b[0m\u001b[0mi\u001b[0m\u001b[0;34m:\u001b[0m\u001b[0;34m]\u001b[0m\u001b[0;34m)\u001b[0m \u001b[0;31m#make a larger\u001b[0m\u001b[0;34m\u001b[0m\u001b[0;34m\u001b[0m\u001b[0m\n",
            "\u001b[0;31mTypeError\u001b[0m: 'NoneType' object is not iterable"
          ]
        }
      ],
      "source": [
        "# Given a set S of elements, say integers { 0, 1, 2 },\n",
        "# a permutation is an ordering of the elements, e.g:\n",
        "# (0, 1, 2) or (1, 0, 2) or (2, 1, 0), etc.\n",
        "# The challenge is to write a recursive function to enumerate all possible permutations of an input set.\n",
        "# The problem is naturally recursive because the set of permutations R of a set S containing a member x\n",
        "# can be constructed from the set of permutations, T, of S - { x } (S after removing x) as follows:\n",
        "# For each P = y_1, y_2, ..., y_n permutation in T, create n+2 permutations containing x:\n",
        "# x, y_1, y_2, ..., y_n\n",
        "# y_1, x, y_2, ..., y_n\n",
        "# y_1, y_2, x, ..., y_n\n",
        "# ...\n",
        "# y_1, y_2, ..., x, y_n\n",
        "# y_1, y_2, ..., y_n, x\n",
        "# For example for S = { 0, 1, 2 } and x=2\n",
        "# then S - { 2 } = { 0, 1 } and\n",
        "# T = { (0,1), (1,0) }\n",
        "# then R = { (2,0,1), (0,2,1), (0,1,2), (2,1,0), (1,2,0), (1,0,2) }\n",
        "\n",
        "def permutations(S):\n",
        "    if len(S) == 0:\n",
        "      return [()] #base case, we return empty tuple of length\n",
        "\n",
        "\n",
        "\n",
        "    k = S[0] #first element\n",
        "    smaller_permutations = permutations(S[1:]) #recursively call permtations\n",
        "    #of all elements apart from the first one\n",
        "    larger_permutations = [] #larger permutaitons form smaller ones\n",
        "    for s in smaller_permutations: #for each smaller permutation, s\n",
        "      for i in range(len(s)): #for each possible index of s\n",
        "        larger_permutations.append(s[:i] + (k,) +s[i:]) #make a larger\n",
        "        #permuatition by inserting k between the elements of s\n",
        "      larger_permutations.append(s + (k,)) #handle where we add k on to end of s\n",
        "\n",
        "\n",
        "    # Code to complete\n",
        "\n",
        "permutations((0,1,2))"
      ]
    },
    {
      "cell_type": "markdown",
      "metadata": {
        "id": "oeXHxduP1V4U"
      },
      "source": [
        "# Lambdas\n",
        "\n",
        "What if you want to define a little function?\n",
        "\n",
        "Lambdas are one-liner functions:"
      ]
    },
    {
      "cell_type": "code",
      "execution_count": null,
      "metadata": {
        "colab": {
          "base_uri": "https://localhost:8080/",
          "height": 35
        },
        "id": "7zCP0m8LD8Kl",
        "outputId": "5c8620b4-3370-4494-8ab7-70c8af5e99b9"
      },
      "outputs": [
        {
          "data": {
            "text/plain": [
              "True"
            ]
          },
          "execution_count": 15,
          "metadata": {
            "tags": []
          },
          "output_type": "execute_result"
        }
      ],
      "source": [
        "fn = lambda x, y : x + y > 10\n",
        "#syntactic sugar for a function on one line\n",
        "#lambda definition is equivalent to\n",
        "\n",
        "#def fn(x, y):\n",
        "#  return x + y > 10\n",
        "\n",
        "fn(5, 10)"
      ]
    },
    {
      "cell_type": "markdown",
      "metadata": {
        "id": "at6E7-UGPI0h"
      },
      "source": [
        "Lambda functions are great when you want to define something small and reusable, e.g:"
      ]
    },
    {
      "cell_type": "code",
      "execution_count": null,
      "metadata": {
        "colab": {
          "base_uri": "https://localhost:8080/"
        },
        "id": "ta3u9XNQPOV5",
        "outputId": "0146a000-4584-4818-b2fe-5cd5047533a0"
      },
      "outputs": [
        {
          "data": {
            "text/plain": [
              "20.0"
            ]
          },
          "execution_count": 18,
          "metadata": {
            "tags": []
          },
          "output_type": "execute_result"
        }
      ],
      "source": [
        "# A little piece of math\n",
        "\n",
        "import math\n",
        "\n",
        "phredScore = lambda x : -10 * math.log10(x) # Calculates the phred score of a probability\n",
        "\n",
        "phredScore(0.01) # It's much cleaner to define a lambda than to repeatedly\n",
        "# repeat the above -10 * math.log10(x) all over your code"
      ]
    },
    {
      "cell_type": "code",
      "execution_count": null,
      "metadata": {
        "colab": {
          "base_uri": "https://localhost:8080/"
        },
        "id": "wwsWuUNkPz-W",
        "outputId": "f5b1b0de-28bf-4d52-a12e-7f194bd30016"
      },
      "outputs": [
        {
          "data": {
            "text/plain": [
              "12"
            ]
          },
          "execution_count": 19,
          "metadata": {
            "tags": []
          },
          "output_type": "execute_result"
        }
      ],
      "source": [
        "# A small iteration on a list\n",
        "\n",
        "sumEven = lambda x : sum([ i for i in x if i % 2 == 0 ]) # Sum the even numbers in a list\n",
        "\n",
        "sumEven([2, 4, 6, 1, 9 ]) # This is cleaner than copying the above list comprehension every place"
      ]
    },
    {
      "cell_type": "markdown",
      "metadata": {
        "id": "12ZKjhRaQVkL"
      },
      "source": [
        "* You can always substitute a lambda for a \"normal\" function definition, it is just syntactic sugar for a function, but lambdas are often less code.\n",
        "\n",
        "* Lambdas shine when we want to pass functions as arguments to other functions, as we'll see next\n",
        "\n",
        "* If you're interested: https://en.wikipedia.org/wiki/Anonymous_function (functions without names) - the lambda name comes from Alonzo Church, who created the lambda calculus."
      ]
    },
    {
      "cell_type": "markdown",
      "metadata": {
        "id": "7r2yQ-5y1nfJ"
      },
      "source": [
        "# Functions can be passed around as arguments\n",
        "\n",
        "Passing functions as arguments to another function is a powerful trick"
      ]
    },
    {
      "cell_type": "code",
      "execution_count": null,
      "metadata": {
        "colab": {
          "base_uri": "https://localhost:8080/",
          "height": 55
        },
        "id": "38zbC_xH1-l6",
        "outputId": "d116a29b-ba34-45c2-cd21-fd03a5d7fa7a"
      },
      "outputs": [
        {
          "name": "stdout",
          "output_type": "stream",
          "text": [
            "['a', 'a', 'lived', 'once', 'teacher', 'there', 'time', 'upon', 'wicked']\n"
          ]
        }
      ],
      "source": [
        "# First consider a function for sorting a list of strings\n",
        "\n",
        "someStrings = [ \"once\", \"upon\", \"a\", \"time\", \"there\", \"lived\",\n",
        "               \"a\", \"wicked\", \"teacher\"]\n",
        "\n",
        "sortedStrings = sorted(someStrings) # The inbuilt sorted function\n",
        "# returns a lexicograhically sorted version of the input list\n",
        "\n",
        "\n",
        "print(sortedStrings)"
      ]
    },
    {
      "cell_type": "markdown",
      "metadata": {
        "id": "dM4e5PZnQyls"
      },
      "source": [
        "But what if we wanted to sort the strings by some other property? For example, if they were date strings or time stamps or some other encoding? Turns out that sorted() takes a \"key\" argument which allows you to define the sort value for each element in the list."
      ]
    },
    {
      "cell_type": "code",
      "execution_count": null,
      "metadata": {
        "colab": {
          "base_uri": "https://localhost:8080/"
        },
        "id": "477-AIOE1pWg",
        "outputId": "e84b9986-ace7-45ac-e336-460e3f1114c9"
      },
      "outputs": [
        {
          "data": {
            "text/plain": [
              "['a', 'a', 'once', 'upon', 'time', 'there', 'lived', 'wicked', 'teacher']"
            ]
          },
          "execution_count": 20,
          "metadata": {
            "tags": []
          },
          "output_type": "execute_result"
        }
      ],
      "source": [
        "# Here, let's just sort them by the length of each string.\n",
        "\n",
        "someStrings = [ \"once\", \"upon\", \"a\", \"time\", \"there\", \"lived\",\n",
        "               \"a\", \"wicked\", \"teacher\"]\n",
        "\n",
        "sorted(someStrings, key=len) # We use the builtin \"len()\" to sort the elements in the list\n",
        "# by their lengths\n",
        "# This works by calling len() on each element of the list, then using the resulting values to sort\n",
        "# the elements"
      ]
    },
    {
      "cell_type": "markdown",
      "metadata": {
        "id": "sWi13HRmRqBS"
      },
      "source": [
        "We can combine inline lambdas to do complex things:"
      ]
    },
    {
      "cell_type": "code",
      "execution_count": null,
      "metadata": {
        "colab": {
          "base_uri": "https://localhost:8080/"
        },
        "id": "Ib1MpmxhR5L3",
        "outputId": "7ede385c-5af3-4358-9ee2-a8b0e6f1d8ad"
      },
      "outputs": [
        {
          "data": {
            "text/plain": [
              "['a', 'a', 'wicked', 'lived', 'once', 'time', 'there', 'upon', 'teacher']"
            ]
          },
          "execution_count": 24,
          "metadata": {
            "tags": []
          },
          "output_type": "execute_result"
        }
      ],
      "source": [
        "# Here, let's just sort them by the length of each string.\n",
        "\n",
        "someStrings = [ \"once\", \"upon\", \"a\", \"time\", \"there\", \"lived\",\n",
        "               \"a\", \"wicked\", \"teacher\"]\n",
        "\n",
        "sorted(someStrings, key=lambda x : x[::-1]) # x[::-1] is the reverse string of x,\n",
        "# so this sorts the strings according to their reversals"
      ]
    },
    {
      "cell_type": "markdown",
      "metadata": {
        "id": "GS2UARsTSuXu"
      },
      "source": [
        "* The use of functions as arguments is a powerful technique to create very general methods.\n",
        "\n",
        "* Here we showed how we could modify sorted() by passing a function that could produce any sort we like."
      ]
    },
    {
      "cell_type": "markdown",
      "metadata": {
        "id": "qBQX91sXdXks"
      },
      "source": [
        "# Challenge 4"
      ]
    },
    {
      "cell_type": "code",
      "execution_count": 12,
      "metadata": {
        "id": "4Vx0rom1dXkx",
        "outputId": "3a1f94fc-0b7b-494a-d625-37ffe701c543",
        "colab": {
          "base_uri": "https://localhost:8080/"
        }
      },
      "outputs": [
        {
          "output_type": "execute_result",
          "data": {
            "text/plain": [
              "['a', 'a', 'teacher', 'there', 'time', 'lived', 'wicked', 'once', 'upon']"
            ]
          },
          "metadata": {},
          "execution_count": 12
        }
      ],
      "source": [
        "someStrings = [ \"once\", \"upon\", \"a\", \"time\", \"there\", \"lived\",\n",
        "               \"a\", \"wicked\", \"teacher\"]\n",
        "\n",
        "sorted(someStrings, key=lambda x: x[1::2]) # replace xx with a lambda function such that the\n",
        "# strings will be sorted only by the even numbered elements in the string, e.g. for string \"once\" it would be sorted\n",
        "# by the string \"ne\" (the 2nd and 4th elements)."
      ]
    },
    {
      "cell_type": "markdown",
      "metadata": {
        "id": "L8o5zkQjNHMU",
        "pycharm": {
          "name": "#%% md\n"
        }
      },
      "source": [
        "# Homework\n",
        "\n",
        "* Go to Canvas and complete the lecture quiz, which involves completing each challenge problem\n",
        "* ZyBooks Reading 15"
      ]
    },
    {
      "cell_type": "markdown",
      "metadata": {
        "id": "KGyKrzTvdXkx"
      },
      "source": [
        "# Practice Problems"
      ]
    },
    {
      "cell_type": "code",
      "execution_count": null,
      "metadata": {
        "id": "LDaUrJIedXky"
      },
      "outputs": [],
      "source": [
        "# Problem 1: Recursive Power Function\n",
        "# Write a recursive function that calculates x raised to the power n (x^n)\n",
        "# Do not use the built-in power operator ** or math.pow()\n",
        "def recursive_power(x, n):\n",
        "    \"\"\"Calculate x raised to power n using recursion.\n",
        "    For example: recursive_power(2, 3) should return 8\"\"\"\n",
        "    # Write your code here\n",
        "    pass\n",
        "\n",
        "# Tests for Problem 1\n",
        "assert recursive_power(2, 3) == 8\n",
        "assert recursive_power(5, 0) == 1\n",
        "assert recursive_power(3, 4) == 81"
      ]
    },
    {
      "cell_type": "code",
      "execution_count": null,
      "metadata": {
        "id": "G4dAcMtKdXky"
      },
      "outputs": [],
      "source": [
        "# Problem 2: List Element Product\n",
        "# Write a recursive function, list product, that returns the product of all numbers in an input list\n",
        "\n",
        "# Write your code here\n",
        "\n",
        "# Tests for Problem 2\n",
        "assert list_product([2, 3, 4]) == 24\n",
        "assert list_product([1, 2, 3, 4, 5]) == 120\n",
        "assert list_product([]) == 1"
      ]
    },
    {
      "cell_type": "code",
      "execution_count": null,
      "metadata": {
        "id": "g-pUyiiCdXky"
      },
      "outputs": [],
      "source": [
        "# Problem 3: Palindrome Checker\n",
        "# Write a recursive function that checks if a string is a palindrome\n",
        "def is_palindrome(s):\n",
        "    \"\"\"Return True if string s is a palindrome, False otherwise.\n",
        "    For example: is_palindrome(\"racecar\") should return True\"\"\"\n",
        "    # Write your code here\n",
        "    pass\n",
        "\n",
        "# Tests for Problem 3\n",
        "assert is_palindrome(\"racecar\") == True\n",
        "assert is_palindrome(\"hello\") == False\n",
        "assert is_palindrome(\"\") == True\n",
        "assert is_palindrome(\"a\") == True\n",
        "assert is_palindrome(\"ab\") == False"
      ]
    },
    {
      "cell_type": "code",
      "execution_count": null,
      "metadata": {
        "id": "aCWoEFJodXky"
      },
      "outputs": [],
      "source": [
        "# Problem 4: Sort by Custom Key\n",
        "# Write a lambda function to sort the list of strings by the last character\n",
        "# Replace the \"lambda_function\" placeholder below with your lambda\n",
        "strings = [\"python\", \"javascript\", \"ruby\", \"java\"]\n",
        "sorted_strings = sorted(strings, key=lambda_function) # Replace with your lambda function\n",
        "\n",
        "# Tests for Problem 4\n",
        "assert sorted_strings == [\"java\", \"python\", \"javascript\", \"ruby\"]"
      ]
    },
    {
      "cell_type": "code",
      "execution_count": null,
      "metadata": {
        "id": "bdpj5OmIdXky"
      },
      "outputs": [],
      "source": [
        "# Problem 5: Custom Filter Function\n",
        "# Write a function that takes a list and a function as arguments\n",
        "# and returns a new list containing only elements where the function returns True\n",
        "def custom_filter(lst, fn):\n",
        "    \"\"\"Filter lst using function fn.\n",
        "    For example: custom_filter([1,2,3,4], lambda x: x % 2 == 0) should return [2,4]\"\"\"\n",
        "    # Write your code here\n",
        "    pass\n",
        "\n",
        "# Tests for Problem 5\n",
        "assert custom_filter([1,2,3,4], lambda x: x % 2 == 0) == [2,4]\n",
        "assert custom_filter([1,2,3,4,5], lambda x: x > 3) == [4,5]\n",
        "assert custom_filter([], lambda x: x > 0) == []"
      ]
    }
  ],
  "metadata": {
    "celltoolbar": "Slideshow",
    "colab": {
      "name": "L15 More Functions and Recursion.ipynb",
      "provenance": []
    },
    "kernelspec": {
      "display_name": "intro_python_env",
      "language": "python",
      "name": "intro_python_env"
    },
    "language_info": {
      "codemirror_mode": {
        "name": "ipython",
        "version": 3
      },
      "file_extension": ".py",
      "mimetype": "text/x-python",
      "name": "python",
      "nbconvert_exporter": "python",
      "pygments_lexer": "ipython3",
      "version": "3.11.9"
    }
  },
  "nbformat": 4,
  "nbformat_minor": 0
}